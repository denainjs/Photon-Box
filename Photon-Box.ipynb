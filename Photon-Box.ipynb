{
 "cells": [
  {
   "cell_type": "markdown",
   "metadata": {},
   "source": [
    "# Photon-Box\n",
    "Simulation of quantum feedback methods to stabilize photon-number states.\n",
    "\n",
    "# 1. Introduction\n",
    "\n",
    "Our goal is to **control the number of photons** inside a cavity. Atoms are repeatedly sent through the cavity, where they interact with the photons. Measuring their state gives some information on the cavity, and makes it possible to compute which control to apply. We say the cavity is the **system** (S) and the atom is the **meter** (M).\n",
    "\n",
    "The cavity is modelled by a [quantum harmonic oscillator](https://en.wikipedia.org/wiki/Quantum_harmonic_oscillator). Its Hamiltonian can be written as a function of the pulsation $\\omega_C$ of the cavity, and the annihilation and creation operators $\\mathbf{a}$ and $\\mathbf{a}^{\\dagger}$:\n",
    "\n",
    "$$\n",
    "\\mathbf{H}_{S}=\\omega_{C}\\left(\\mathbf{a}^{\\dagger} \\mathbf{a}+\\frac{1}{2}\\right)\n",
    "$$\n",
    "\n",
    "Each atom is modelled as a [two-state systems](https://en.wikipedia.org/wiki/Two-state_quantum_system), the Hamiltonian of which can be expressed as a function of the difference in pulsation between the excited and ground states $\\omega_{eg}$ using the Pauli operator $\\sigma_{Z}$:\n",
    "\n",
    "$$\n",
    "\\mathbf{H}_{\\mathbf{M}}=\\frac{\\mathbf{\\omega}_{\\mathrm{eg}}}{2} \\mathbf{\\sigma}_{Z}\n",
    "$$\n",
    "\n",
    "The Hamiltonian of the **composite system**, which also takes into account the entanglement of the system and the meter, is of the form *(see [Haroche & Raimond](http://math0.bnu.edu.cn/~zhengc/material/macsoft/ebooksclub.org__Exploring_the_Quantum__Atoms__Cavities__and_Photons__Oxford_Graduate_Texts_.pdf), section 3.4)*:\n",
    "\n",
    "$$\n",
    "\\mathbf{H}= \\mathbf{H}_S + \\mathbf{H}_M + \\mathbf{H}_I = \\frac{\\omega_{\\mathrm{eg}}}{2} \\mathbf{\\sigma}_{z} \\otimes \\mathbf{I}_{c}+ \\mathbf{I}_{q} \\otimes \\omega_{c}\\left(\\mathbf{N}+\\frac{\\mathbf{I}}{2}\\right)+i \\frac{\\Omega}{2} \\mathbf{\\sigma}_{\\mathbf{X}} \\otimes\\left(\\mathbf{a}^{\\dagger}-\\mathbf{a}\\right)\n",
    "$$\n",
    "\n",
    "where $\\mathbf{H}_I = i \\frac{\\Omega}{2} \\mathbf{\\sigma}_{\\mathbf{X}} \\otimes\\left(\\mathbf{a}^{\\dagger}-\\mathbf{a}\\right)$ is the **interaction Hamiltonian**, which describes the coupling between $S$ and $M$, and $\\mathbf{N} = \\mathbf{a}^{\\dagger} \\cdot \\mathbf{a}$ is the \"photon number\" operator.\n",
    "\n",
    "We will work in the **dispersive approximation** $\\Omega \\ll\\left|\\omega_{c}-\\omega_{\\mathrm{eg}}\\right|$, meaning that the cavity and atoms are far from resonant. In this case, the interaction Hamiltonian is given by the simpler expression:\n",
    "\n",
    "$$\n",
    "\\mathbf{H}_I \\approx \\mathbf{H}_{\\mathrm{disp}}= -\\frac{\\chi}{2} \\mathbf{\\sigma}_{Z}\\left(\\mathbf{N}+\\frac{\\mathbf{I}}{2}\\right)\n",
    "$$\n",
    "\n",
    "where $\\chi=\\frac{\\Omega^{2}}{2\\left(\\omega_{c}-\\omega_{\\mathrm{eg}}\\right)}$.\n"
   ]
  },
  {
   "cell_type": "markdown",
   "metadata": {},
   "source": [
    "\n",
    "\n",
    "# 2. Description of the Open Loop apparatus\n",
    "\n",
    "![experiment](pics/experiment.png)\n",
    "\n",
    "\n",
    "An atom leave the box $B$, where it has been prepared in its ground state $| g \\rangle$. Initially the cavity is in a coherent state $|\\psi \\rangle$ such that the mean number of photons corresponds to the Fock state we want to stabilize. The state of the composite system is then given by: $| \\Psi \\rangle=| \\psi \\rangle \\otimes | g \\rangle$.\n",
    "\n",
    "The atom then traverse a first cavity $R$<sub>1</sub>. Next, it passes through $S$ where it interacts with the photons: this is where the state of the composite system becomes entangled. The atom then travel through one last cavity $R$<sub>2</sub>. Finally, its state is measured in a field-ionization detector $D$.\n",
    "\n",
    "The evolution of the composite system between the release of an atom from $B$ and the moment before it is measured is summed up in the Schrödinger propagator $U_{SM}$. The state of the full system after leaving $R_2$ is given by:\n",
    "\n",
    "$$\n",
    "\\mathbf{U}_{S M}( | \\psi\\rangle \\otimes | g \\rangle )=\\left(\\mathbf{M}_{g} | \\psi\\right\\rangle ) \\otimes | g \\rangle+\\left(\\mathbf{M}_{e} | \\psi\\right\\rangle ) \\otimes | e \\rangle\n",
    "$$\n",
    "\n",
    "\n",
    "This formula defines the **measurement operators** $\\mathbf{M}_g$ and $\\mathbf{M}_e$: they tell us how the measurement of the atoms influences the state of the cavity. Under the dispersive approximation, it can be shown that:\n",
    "\n",
    "$$\n",
    "\\left\\{\\begin{array}{l}{\\mathbf{M}_{g}=\\cos \\left( (\\phi_R+\\bar{\\phi} \\mathbf{N}) / 2 \\right)} \\\\ {\\mathbf{M}_{e}=\\sin \\left( (\\phi_R+\\bar{\\phi} \\mathbf{N}) / 2 \\right)}\\end{array}\\right.\n",
    "$$\n",
    "\n",
    "Following the measurement (hence the collapse of the wave function), the state of the cavity is:\n",
    "\n",
    "$$\n",
    "\\left\\{\\begin{array}{c}{\\frac{\\mathbf{M}_{g} | \\psi \\rangle}{\\sqrt{\\left\\langle\\psi\\left|\\mathbf{M}_{g}^{\\dagger} \\mathbf{M}_{g}\\right| \\psi \\right\\rangle}} \\text{ with probability } \n",
    "\\mathbb{P}_{g}=\\left\\langle\\psi\\left|\\mathbf{M}_{g}^{\\dagger} \\mathbf{M}_{g}\\right| \\psi\\right\\rangle\n",
    "} \\\\ {\\frac{\\mathbf{M}_{\\mathbf{e}} | \\psi \\rangle}{\\sqrt{\\left\\langle\\psi\\left|\\mathbf{M}_{e}^{\\dagger} \\mathbf{M}_{e}\\right| \\psi \\right\\rangle}} \\text{ with probability } \n",
    "\\mathbb{P}_{e}=\\left\\langle\\psi\\left|\\mathbf{M}_{e}^{\\dagger} \\mathbf{M}_{e}\\right| \\psi\\right\\rangle\n",
    "}\\end{array}\\right.\n",
    "$$\n",
    "\n",
    "\n",
    "The previous paragraphs referred to the journey of a single atom through the apparatus. Repeating this process by continuously sending atoms yields a [Markov process](https://en.wikipedia.org/wiki/Markov_chain), defined at step $k$ by:\n",
    "\n",
    "$$|\\psi_{k+1} \\rangle =  \\left\\{\\begin{array}{c}{\\frac{\\mathbf{M}_{g} | \\psi_{k} \\rangle}{\\sqrt{\\left\\langle\\psi_{k}\\left|\\mathbf{M}_{g}^{\\dagger} \\mathbf{M}_{g}\\right| \\psi_{k}\\right\\rangle}} \\text{ with probability } \n",
    "\\mathbb{P}^{(k)}_{g}=\\left\\langle\\psi_k\\left|\\mathbf{M}_{g}^{\\dagger} \\mathbf{M}_{g}\\right| \\psi_k\\right\\rangle\n",
    "} \\\\ {\\frac{\\mathbf{M}_{\\mathbf{e}} | \\psi_{k} \\rangle}{\\sqrt{\\left\\langle\\psi_{k}\\left|\\mathbf{M}_{e}^{\\dagger} \\mathbf{M}_{e}\\right| \\psi_{k}\\right\\rangle}} \\text{ with probability } \n",
    "\\mathbb{P}^{(k)}_{e}=\\left\\langle\\psi_k \\left|\\mathbf{M}_{e}^{\\dagger} \\mathbf{M}_{e}\\right| \\psi_k \\right\\rangle\n",
    "}\\end{array}\\right.$$\n",
    "\n",
    "\n",
    "We will see in the next paragraph that due to mistakes in the measurement process, we have access only to probability distributions of states rather than pure states. The bra-ket formalism is therefore insufficient: we must use [density matrices](https://en.wikipedia.org/wiki/Density_matrix).\n",
    "\n",
    "Given a pure state before measurement, the state after the measure is:\n",
    "\n",
    "$$\\mathbf{\\rho}_+ = \\left\\{\\begin{array}{c}{\\frac{\\mathbf{M}_{g} \\mathbf{\\rho} \\mathbf{M}^{\\dagger}_{g} }{\\text{Tr}(\\mathbf{M}_{g} \\mathbf{\\rho} \\mathbf{M}^{\\dagger}_{g})}  \\text{with probability } \\mathbb{P}_g = \\text{Tr}(\\mathbf{M}_{g} \\mathbf{\\rho} \\mathbf{M}^{\\dagger}_{g}) } \\\\\n",
    " {\\frac{\\mathbf{M}_{e} \\mathbf{\\rho} \\mathbf{M}^{\\dagger}_{e} }{\\text{Tr}(\\mathbf{M}_{e} \\mathbf{\\rho} \\mathbf{M}^{\\dagger}_{e})}   \\text{with probability } \\mathbb{P}_e = \\text{Tr}(\\mathbf{M}_{e} \\mathbf{\\rho} \\mathbf{M}^{\\dagger}_{e}) }\\end{array}\\right.$$\n",
    "\n",
    "Hence the associated Markov chain:\n",
    "$$\n",
    "\\mathbf{\\rho}_{k+1} = \\left\\{\\begin{array}{c}{\\frac{\\mathbf{M}_{g} \\mathbf{\\rho}_{k} \\mathbf{M}^{\\dagger}_{g} }{\\text{Tr}(\\mathbf{M}_{g} \\mathbf{\\rho}_{k} \\mathbf{M}^{\\dagger}_{g})}  \\text{with probability } \\mathbb{P}_g = \\text{Tr}(\\mathbf{M}_{g} \\mathbf{\\rho}_{k} \\mathbf{M}^{\\dagger}_{g}) } \\\\\n",
    " {\\frac{\\mathbf{M}_{e} \\mathbf{\\rho}_{k} \\mathbf{M}^{\\dagger}_{e} }{\\text{Tr}(\\mathbf{M}_{e} \\mathbf{\\rho}_{k} \\mathbf{M}^{\\dagger}_{e})}   \\text{with probability } \\mathbb{P}_e = \\text{Tr}(\\mathbf{M}_{e} \\mathbf{\\rho}_{k} \\mathbf{M}^{\\dagger}_{e}) }\\end{array}\\right.\n",
    "$$\n",
    "\n"
   ]
  },
  {
   "cell_type": "markdown",
   "metadata": {},
   "source": [
    "# 3. Simulation of the Open-loop system\n",
    "\n",
    "We implemented the situation described above in the file `idealized_no_control.py`, in which we used the [QuTiP](http://qutip.org/) toolbox. The rest of this paragraph is a walkthrough of the code, followed by a description of our main results."
   ]
  },
  {
   "cell_type": "markdown",
   "metadata": {},
   "source": [
    "### Relevant modules"
   ]
  },
  {
   "cell_type": "code",
   "execution_count": 42,
   "metadata": {},
   "outputs": [],
   "source": [
    "import qutip as q\n",
    "import matplotlib.pyplot as plt\n",
    "import numpy as np\n",
    "import numpy.random as random\n",
    "%run display.py"
   ]
  },
  {
   "cell_type": "markdown",
   "metadata": {},
   "source": [
    "### Simulation parameters\n",
    "We first defined the main parameters of the simulation, starting with the number of steps in the Markov Chain `num_steps`."
   ]
  },
  {
   "cell_type": "code",
   "execution_count": 43,
   "metadata": {},
   "outputs": [],
   "source": [
    "num_steps = 300"
   ]
  },
  {
   "cell_type": "markdown",
   "metadata": {},
   "source": [
    "Then comes the dimension `n` of the Hilbert space in which we chose to work. Since the Hilbert space in question is generated by the Fock photon number states, in this simulation its dimension is equal to the maximum possible number of photons."
   ]
  },
  {
   "cell_type": "code",
   "execution_count": 44,
   "metadata": {},
   "outputs": [],
   "source": [
    "n = 10"
   ]
  },
  {
   "cell_type": "markdown",
   "metadata": {},
   "source": [
    "The target number of photons `target` and the corresponding Fock state density matrix `rho_target` are then defined. "
   ]
  },
  {
   "cell_type": "code",
   "execution_count": 45,
   "metadata": {},
   "outputs": [],
   "source": [
    "target = 3\n",
    "rho_target = q.fock_dm(n,target)"
   ]
  },
  {
   "cell_type": "markdown",
   "metadata": {},
   "source": [
    "Finally, the initial state is chosen as a coherent state with same mean number of photons as the target state. Its density matrix is called `rho_init`."
   ]
  },
  {
   "cell_type": "code",
   "execution_count": 46,
   "metadata": {},
   "outputs": [],
   "source": [
    "rho_init = q.coherent_dm(n,target**0.5)"
   ]
  },
  {
   "cell_type": "markdown",
   "metadata": {},
   "source": [
    "### Measurement operators"
   ]
  },
  {
   "cell_type": "markdown",
   "metadata": {},
   "source": [
    "We then define the variables `phi_bar` and `phi_R`, corresponding to $\\bar{\\phi}$ and $\\phi_R$ in the expression of the measurement operators. They are chosen as advised in [Dotsenko et al. (2009)](https://arxiv.org/pdf/0905.0114.pdf)."
   ]
  },
  {
   "cell_type": "code",
   "execution_count": 47,
   "metadata": {},
   "outputs": [],
   "source": [
    "phi_bar =  np.pi/n \n",
    "phi_R = np.pi/2 - phi_bar*target "
   ]
  },
  {
   "cell_type": "markdown",
   "metadata": {},
   "source": [
    "We now have all the tools in hand to define the measurement operators `Mg` and `Me`."
   ]
  },
  {
   "cell_type": "code",
   "execution_count": 48,
   "metadata": {},
   "outputs": [],
   "source": [
    "Mg = q.Qobj([[0 for i in range(n)] for j in range(n)])\n",
    "Me = q.Qobj([[0 for i in range(n)] for j in range(n)])\n",
    "for i in range(0,n):\n",
    "    Mg += np.cos((phi_R + phi_bar * i)/2) * q.fock_dm(n,i)\n",
    "    Me += np.sin((phi_R + phi_bar * i)/2) * q.fock_dm(n,i)"
   ]
  },
  {
   "cell_type": "markdown",
   "metadata": {},
   "source": [
    "### Measurement superoperator"
   ]
  },
  {
   "cell_type": "code",
   "execution_count": 49,
   "metadata": {},
   "outputs": [],
   "source": [
    "def measure_projection(rho, measurement_operator):\n",
    "    res = measurement_operator * rho * measurement_operator.dag()\n",
    "    return res/res.tr()"
   ]
  },
  {
   "cell_type": "markdown",
   "metadata": {},
   "source": [
    "### Fidelity"
   ]
  },
  {
   "cell_type": "markdown",
   "metadata": {},
   "source": [
    "In order to show the evolution of the cavity state, we must monitor its distance to the target state through time. A simple measure is the fidelity, defined (in this situation) by:\n",
    "$$F(\\rho) = \\text{Tr}\\left(\\rho \\rho_{tag}\\right) = \\text{Tr}\\left(\\rho | n_{tag} \\rangle \\langle n_{tag} |\\right)$$"
   ]
  },
  {
   "cell_type": "code",
   "execution_count": 50,
   "metadata": {},
   "outputs": [],
   "source": [
    "def fidelity(rho, rho_target):\n",
    "    return (rho * rho_target).tr()"
   ]
  },
  {
   "cell_type": "markdown",
   "metadata": {},
   "source": [
    "### The Open-loop Markov Chain\n",
    "The function `markov_chain` takes the target number of photons as argument and returns a list of the values of the fidelity at each iteration. "
   ]
  },
  {
   "cell_type": "markdown",
   "metadata": {},
   "source": [
    "Let's plot the values of the fidelity:"
   ]
  },
  {
   "cell_type": "code",
   "execution_count": 51,
   "metadata": {},
   "outputs": [
    {
     "data": {
      "image/png": "[encoded data removed]",
      "text/plain": [
       "<Figure size 432x288 with 1 Axes>"
      ]
     },
     "metadata": {
      "needs_background": "light"
     },
     "output_type": "display_data"
    }
   ],
   "source": [
    "%run open_loop.py\n",
    "res = open_loop_markov_chain(target)\n",
    "display_open_loop(res)"
   ]
  },
  {
   "cell_type": "markdown",
   "metadata": {},
   "source": [
    "\n",
    "\n",
    "# 4. A more general Framework\n",
    "\n",
    "We have so far described the open loop apparatus and its simulation. However, we have not yet modelled the **effect of a control** on the cavity and atoms. As we shall see below, the control consists in the injection of a pulse into the cavity, which can be modelled by the [Glauber displacement operator](https://en.wikipedia.org/wiki/Displacement_operator).\n",
    "\n",
    "\n",
    "For now, we remain in a finite dimensional setting: we artificially bound the number of photons in the cavity by some quantity $d$. This way, the Hilbert space defining the cavity is $\\mathbb{C}^d$, and the density matrices live in the set $\\mathcal{D}(\\mathbb{C}^d) :=\\left\\{\\rho \\in \\mathbb{C}^{d \\times d} | \\rho=\\rho^{\\dagger}, \\operatorname{Tr}(\\rho)=1, \\rho \\geq 0\\right\\}$. \n",
    "\n",
    "We follow [Amini et al. (2011)](https://arxiv.org/pdf/1103.1365.pdf) in defining the following Markov process, a generalization of the random walk defined in the previous paragraph:\n",
    "\n",
    "$$\n",
    "\\rho_{k+1}=\\mathbb{U}_{\\alpha_{k}}(\\mathbb{M}_{\\mu_{k}}\\left(\\rho_{k}\\right))\n",
    "$$\n",
    "\n",
    "with: \n",
    "* $\\mathbb{M}_{\\mu}$ the superoperator $\\rho \\mapsto \\frac { \\mathbf{M}_{\\mu}\\rho \\mathbf{M}_{\\mu}^{\\dagger}} {\\operatorname{Tr} (\\mathbf{M}_{\\mu}\\rho \\mathbf{M}_{\\mu}^{\\dagger})}$, with $\\mathbf{M}_{\\mu}$ the associated measurement operator.\n",
    "* $\\mathbb{U}_{\\alpha}$ the superoperator $\\rho \\mapsto \\mathcal{D}(u)\\rho\\mathcal{D}(-u)$ where $\\mathcal{D}(\\alpha) = e^{\\alpha \\mathbf{a}^{\\dagger} - \\alpha^{*} \\mathbf{a}}$ is the [Glauber displacement operator](https://en.wikipedia.org/wiki/Displacement_operator).\n",
    "* $\\alpha_k$ the control at step $k$\n",
    "* $\\mu_k$ taking the value $\\mu$ with probability $\\operatorname{Tr} (\\mathbf{M}_{\\mu}\\rho_{k}\\mathbf{M}_{\\mu}^{\\dagger})$\n",
    "\n",
    "Moreover, the experiment is set up in such a way that the following assumptions are verified:\n",
    "* for every $\\mu$, the measurement operator $\\mathbf{M}_{\\mu}$ is diagonal in the Fock basis. Said otherwise, it is a linear combination of the pure states $|n\\rangle \\langle n |$.\n",
    "* given two distinct integers $1 \\leq n_1 < n_2 \\leq d$, there is at least one measurement outcome $\\mu$ such that the probability of measuring $\\mu$ is different in $|n_1\\rangle \\langle n_1|$ and in $|n_2\\rangle \\langle n_2|$.\n",
    "\n"
   ]
  },
  {
   "cell_type": "markdown",
   "metadata": {},
   "source": [
    "# 5. Lyapunov functions, and a stochastic version of LaSalle's theorem\n",
    "\n",
    "Our goal is to stabilize the target Fock state $|n_{tag}\\rangle \\langle n_{tag}|$, for some target number of photons $n_{tag}$. A general method for choosing a control so as to stabilize a particular state, both in deterministic and stochastic systems, is to define a [Lyapunov function](https://en.wikipedia.org/wiki/Lyapunov_function).\n",
    "\n",
    "Though the details may vary quite a lot depending on the particular setting, the idea is for such a function $V$ to be non negative, to decrease as the system evolves, and to be minimal when and only when the system has reached the desired state.\n",
    "\n",
    "Exhibiting a suitable Lyapunov function is useful to prove that a given point is a stable equilibrium, but also to chose a control so that the system converges to this equilibrium, by picking at each step the value of the control that **minimizes the Lyapunov function**.\n",
    "\n",
    "An example in the **deterministic setting** would be to chose $V$ such that:\n",
    "* $V$ is $C^1$.\n",
    "* $\\dot{V}(x) = \\frac{d}{d t} V(x) \\leq 0 \\text { for all } x$\n",
    "\n",
    "By [LaSalle's first theorem](https://en.wikipedia.org/wiki/LaSalle%27s_invariance_principle), this would imply that for every trajectory, its accumulation points are zeros of $\\dot{V}$. Choosing $V$ astutely (for instance, such that $V(x)>0, \\text { for all } x \\neq 0$ and $V(0)=0$, following the hypotheses of LaSalle's second theorem) could therefore narrow down the set of possible stable accumulation points and ensure the stability of the origin $x^* = 0$.\n",
    "\n",
    "In our case time is **discrete**, and due to the quantum nature of measurement we must opt for a **probabilistic approach**. To this effect, we use the following stochastic analogue of Lasalle's first theorem, which appears in [H.J. Kushner, 1971](https://www.amazon.com/Introduction-stochastic-control-Harold-Kushner/dp/0030849675), which we quote as in the appendix of [Amini et al. (2011)](https://arxiv.org/pdf/1103.1365.pdf):\n",
    "\n",
    "\n",
    "> Let $(X_k)_{k \\in \\mathbb{N}}$ be a Markov chain on the compact state space $S$. Suppose there\n",
    "exists a non-negative function $V(X)$ satisfying: $\\mathbb{E}\\left(V\\left(X_{k+1}\\right) | X_{k}\\right)-V\\left(X_{k}\\right)=Q\\left(X_{k}\\right)$, where $Q(X)$ is a positive continuous function of $X$. Then the $\\omega$-limit set $\\Omega$ (in the sense of almost sure convergence) of $(X_k)$ is included in the following set: $I :=\\{X | \\ Q(X)=0\\}$.\n",
    "\n"
   ]
  },
  {
   "cell_type": "markdown",
   "metadata": {},
   "source": [
    "# 6. A first Lyapunov function: fidelity\n",
    "## Definition\n",
    "\n",
    "The first Lyapunov we used was the fidelity $F$, or to be more accurate $V = 1 - F$. Given a target Fock state $\\rho_{tag}=|n_{tag}\\rangle\\langle n_{tag}|$ the fidelity is defined by :\n",
    "\n",
    "$$\\text{Tr}(\\rho |n_{tag}\\rangle\\langle n_{tag}|)= \\langle n_{tag}|\\rho|n_{tag}\\rangle$$\n",
    "\n",
    "## Choice of the control $\\alpha_k$\n",
    "\n",
    "**Theorem**\n",
    "\n",
    "We note $\\rho_{k+\\frac{1}{2}}=\\mathbb{M}_{\\mu_k}\\rho_k$.\n",
    "Let $1\\gg\\epsilon>0$ and $n_k=\\sum_{n=1}^d n\\langle n |\\rho_{k+\\frac{1}{2}}|n \\rangle$ be the mean number of photons in the cavity for the state $\\rho_{k+\\frac{1}{2}}$. For all $k$, define:\n",
    "\n",
    "$$\\alpha_k = \\left\\{ \\begin{array}{l c l}\n",
    "c_1\\text{Tr}([\\rho_{tag},\\textbf{a}^\\dagger-\\textbf{a}]\\rho_{k+\\frac{1}{2}})\\quad&\\text{if}&\\quad F(\\rho_{k+\\frac{1}{2}})\\geq\\epsilon\\\\\n",
    "c_2\\text{sign}(n_{tag}-n_k)\\quad&\\text{if} &\\quad F(\\rho_{k+\\frac{1}{2}})<\\epsilon\n",
    "\\end{array}\\right.\n",
    "$$\n",
    "\n",
    "with $c_1=\\frac{1}{4 n_{tag}+2}$ and $c_2>0$ to chose.\n",
    "\n",
    "Then $\\rho_k$ almost surely converges to $\\rho_{tag}$:\n",
    "\n",
    "$$\\mathbb{P}(\\rho_k \\longrightarrow \\rho_{tag})=1$$.\n",
    "\n",
    "\n",
    "**Proof**: for every step $k$ we have:\n",
    "\n",
    "$$\\begin{align}\n",
    "\\rho_{k+1} = &\\mathbb{U}_{\\alpha_k}\\rho_{k+\\frac{1}{2}}\\\\\n",
    "= & \\textbf{D}(\\alpha_k)\\,\\rho_{k+\\frac{1}{2}}\\,\\textbf{D}(-\\alpha)\\\\\n",
    "= & \\rho_{k+\\frac{1}{2}} - \\alpha_k [\\rho_{k+\\frac{1}{2}},\\textbf{a}^\\dagger-\\textbf{a}]+\\frac{\\alpha_k^2}{2}[[\\rho_{k+\\frac{1}{2}},\\textbf{a}^\\dagger-\\textbf{a}],\\textbf{a}^\\dagger-\\textbf{a}]\n",
    "\\end{align}$$\n",
    "\n",
    "using the Baker-Campbell-Hausdorff formula (see Appendix) in the limit of small $\\alpha_k$ and the formula $\\textbf{D}(\\alpha)=e^{\\alpha\\textbf{a}^\\dagger-\\alpha^{*}\\textbf{a}}$.\n",
    "\n",
    "Multplying by $|n_{tag}\\rangle\\langle n_{tag}|$ and applying $\\text{Tr}$ we easily obtain :\n",
    "$$\n",
    "F(\\rho_{k+1})=F(\\rho_{k+\\frac{1}{2}}) - \\alpha_k\\text{Tr}( [\\rho_{k+\\frac{1}{2}},\\textbf{a}^\\dagger-\\textbf{a}]\\rho_{tag})+\\frac{\\alpha_k^2}{2}\\textbf{Tr}([[\\rho_{k+\\frac{1}{2}},\\textbf{a}^\\dagger-\\textbf{a}],\\textbf{a}^\\dagger-\\textbf{a}]\\rho_{tag})\n",
    "$$\n",
    "Then with the expression of $\\alpha_k$ :\n",
    "\n",
    "$$F(\\rho_{k+1})=F(\\rho_{k+\\frac{1}{2}})+\\left( \\text{Tr}([\\rho_{tag},\\textbf{a}^\\dagger-\\textbf{a}]\\rho_{k+\\frac{1}{2}})\\right) ^2\\left( c_1-\\frac{c_1^2}{2}\\text{Tr}([\\rho_{tag},\\textbf{a}^\\dagger-\\textbf{a}])^2\\right)>F(\\rho_{k+\\frac{1}{2}})$$\n",
    "\n",
    "where $c_1$ is in fact chosen to maximise the gain compare to $F(\\rho_{k+\\frac{1}{2}})$.\n",
    "\n",
    "The previous equation can be rewritten:\n",
    "$$F(\\rho_{k+1})=F(\\rho_{k+\\frac{1}{2}})+f(\\rho_{k+\\frac{1}{2}})$$\n",
    "\n",
    "with $f(\\rho):=\\left( \\text{Tr}([\\rho_{tag},\\textbf{a}^\\dagger-\\textbf{a}]\\rho)\\right) ^2\\left( c_1-\\frac{c_1^2}{2}\\text{Tr}([\\rho_{tag},\\textbf{a}^\\dagger-\\textbf{a}])^2\\right)$\n",
    "\n",
    "Using $[\\textbf{M}_\\mu,\\rho_{tag}]=0$ and $\\textbf{M}_e\\textbf{M}_e^\\dagger+\\textbf{M}_g\\textbf{M}_g^\\dagger=\\textbf{1}$ we prove easily that :\n",
    "\n",
    "$$\\mathbb{E}(F(\\rho_{k+\\frac{1}{2}})|\\rho_k)=F(\\rho_k)$$\n",
    "\n",
    "Thus :\n",
    "\n",
    "$$\\mathbb{E}(F(\\rho_{k+1})|\\rho_k)-F(\\rho_k)=\\sum_{\\mu\\in\\{ e,g\\}}P_{\\mu, \\rho_k}f(\\mathbb{U}_{\\alpha_k}\\mathbb{M}_\\mu\\rho_k)=Q(\\rho_k)>0$$\n",
    "\n",
    "Then, the stochastic version of LaSalle's theorem mentioned above gives us a piece of information on $\\Omega$, the $\\omega$-limit set :\n",
    "\n",
    "$$\\Omega \\subset \\{ \\rho|Q(\\rho)=0\\}$$\n",
    "\n",
    "Moreover, some manipulations gives $Q(\\rho)=0 \\implies \\exists n\\in \\{1, \\ldots, d \\}, \\rho=|n\\rangle\\langle n |$.\n",
    "\n",
    "So we have proven that $\\rho_k$ converges towards a Fock state. However, the limit could be the wrong Fock state: such a state would still be such that $F(\\rho)=0$. It is to avoid these erroneous convergences that we define the \"kick\" $c_2 \\cdot \\text{sign}(n_{tag}-n_k)$ when $F(\\rho_{k+\\frac{1}{2}})<\\epsilon$."
   ]
  },
  {
   "cell_type": "markdown",
   "metadata": {},
   "source": [
    "## 7. Simulation of the controlled system with fidelity\n",
    "\n",
    "Now that we have described one method to chose the control to apply to the cavity, we turn to its implementation. Recall the general principle: measuring the system makes it possible to produce an estimate of the state of the cavity following the measurement. The control is a function of this estimate.\n",
    "\n",
    "In the current situation, we assume all measurements are exact: therefore our estimate of the state of the cavity after measurement is exact. However, this assumption will not hold in subsequent simulations, when we will have to take measurement omissions and errors into account.\n",
    "\n",
    "When our estimate is not exact, we must distinguish the estimated density matrix `rho_estimate` from the actual density matrix `rho_real`. We will start making the difference now, so that we are prepared when the distinction becomes necessary. \n",
    "\n",
    "The experimenter (and the simulator) is only allowed to use `rho_estimate` to determine the control. However, the evolution of the actual system (*eg* the measurement results) depends on `rho_real`."
   ]
  },
  {
   "cell_type": "markdown",
   "metadata": {},
   "source": [
    "### Real and Estimated parameters\n",
    "\n",
    "`rho_estimate` lives in a finite-dimensional Hilbert space whose dimension `n_estimate` is the maximum number of photon that can be unambiguously measured. In theory, `rho_real` lives in an infinite-dimensional space, but for computational purposes we restrain ourselves to a finite dimension `n_real > n_estimate`."
   ]
  },
  {
   "cell_type": "code",
   "execution_count": 52,
   "metadata": {},
   "outputs": [],
   "source": [
    "n_real = 20 # dimension of the Hilbert space describing the cavity \n",
    "n_estimate = 15 # maximum number of photon unambiguously measured"
   ]
  },
  {
   "cell_type": "markdown",
   "metadata": {},
   "source": [
    "This implies that we must distinguish real and estimated target states."
   ]
  },
  {
   "cell_type": "code",
   "execution_count": 53,
   "metadata": {},
   "outputs": [],
   "source": [
    "target = 3 # we want to stabilize the Fock state |target>\n",
    "rho_target_real = q.fock_dm(n_real,target) # target density matrix\n",
    "rho_target_estimate = q.fock_dm(n_estimate,target) # target density matrix"
   ]
  },
  {
   "cell_type": "markdown",
   "metadata": {},
   "source": [
    "The cavity parameters also differ."
   ]
  },
  {
   "cell_type": "code",
   "execution_count": 54,
   "metadata": {},
   "outputs": [],
   "source": [
    "phi_bar_estimate =  np.pi/n_estimate # parameter for phi(n)\n",
    "phi_bar_real =  np.pi/n_real # parameter for phi(n)\n",
    "phi_R_estimate = np.pi/2 - phi_bar_estimate*target # parameter for phi(n)\n",
    "phi_R_real = np.pi/2 - phi_bar_real*target # parameter for phi(n)"
   ]
  },
  {
   "cell_type": "markdown",
   "metadata": {},
   "source": [
    "So do the real and estimated initial states."
   ]
  },
  {
   "cell_type": "code",
   "execution_count": 55,
   "metadata": {},
   "outputs": [],
   "source": [
    "rho_init_real = q.coherent_dm(n_real,target**0.5) # initial density matrix\n",
    "rho_init_estimate = q.coherent_dm(n_estimate,target**0.5) # initial density matrix"
   ]
  },
  {
   "cell_type": "markdown",
   "metadata": {},
   "source": [
    "### Measurement operators\n",
    "Once again, we must define both real and estimated measurement operators."
   ]
  },
  {
   "cell_type": "code",
   "execution_count": 56,
   "metadata": {},
   "outputs": [],
   "source": [
    "Mg_real = q.Qobj([[0 for i in range(n_real)] for j in range(n_real)])\n",
    "Me_real = q.Qobj([[0 for i in range(n_real)] for j in range(n_real)])\n",
    "Mg_estimate = q.Qobj([[0 for i in range(n_estimate)] for j in range(n_estimate)])\n",
    "Me_estimate = q.Qobj([[0 for i in range(n_estimate)] for j in range(n_estimate)])\n",
    "for i in range(0,n_real):\n",
    "    Mg_real += np.cos((phi_R_real + phi_bar_real * i)/2) * q.fock_dm(n_real,i)\n",
    "    Me_real += np.sin((phi_R_real + phi_bar_real * i)/2) * q.fock_dm(n_real,i)\n",
    "for i in range(0,n_estimate):\n",
    "    Mg_estimate += np.cos((phi_R_estimate + phi_bar_estimate * i)/2) * q.fock_dm(n_estimate,i)\n",
    "    Me_estimate += np.sin((phi_R_estimate + phi_bar_estimate * i)/2) * q.fock_dm(n_estimate,i)"
   ]
  },
  {
   "cell_type": "markdown",
   "metadata": {},
   "source": [
    "### Control parameters\n",
    "We define the control parameters as in [Dotsenko et al. (2009)](https://arxiv.org/pdf/0905.0114.pdf). Since it is a Glauber displacement superoperator, the control is also a function of the annihilation and creation operators."
   ]
  },
  {
   "cell_type": "code",
   "execution_count": 57,
   "metadata": {},
   "outputs": [],
   "source": [
    "c_1 = 1/(4*target + 2)\n",
    "c_2 = 0.1\n",
    "epsilon = 0.001 \n",
    "a_real = q.destroy(n_real) # annihilation operator; the creation operator is given by a_real.dag()\n",
    "a_estimate = q.destroy(n_estimate) # annihilation operator; the creation operator is given by a_estimate.dag()"
   ]
  },
  {
   "cell_type": "code",
   "execution_count": 58,
   "metadata": {},
   "outputs": [],
   "source": [
    "def displacement(rho,alpha, dimension):\n",
    "    return q.displace(dimension, alpha)*rho*q.displace(dimension, -alpha)"
   ]
  },
  {
   "cell_type": "markdown",
   "metadata": {},
   "source": [
    "We also write the function `commutator`, which (surprinsingly enough) computes the commutator of two operators."
   ]
  },
  {
   "cell_type": "code",
   "execution_count": 59,
   "metadata": {},
   "outputs": [],
   "source": [
    "def commutator(op1, op2):\n",
    "    return op1 * op2 - op2 * op1"
   ]
  },
  {
   "cell_type": "markdown",
   "metadata": {},
   "source": [
    "### The Closed-loop Markov Chain\n",
    "The function `markov_chain` takes the target number of photons as argument and returns three lists:\n",
    "* a list of the fidelity of the real state at each iteration. \n",
    "* a list of the fidelity of the estimated state at each iteration. \n",
    "* a list containing the value of the control at each iteration. "
   ]
  },
  {
   "cell_type": "markdown",
   "metadata": {},
   "source": [
    "This function `display_results_fidelity` (available in the file `display.py`) plots the results of a simulation:"
   ]
  },
  {
   "cell_type": "code",
   "execution_count": 60,
   "metadata": {},
   "outputs": [
    {
     "data": {
      "image/png": "[encoded data removed]",
      "text/plain": [
       "<Figure size 648x432 with 3 Axes>"
      ]
     },
     "metadata": {
      "needs_background": "light"
     },
     "output_type": "display_data"
    }
   ],
   "source": [
    "%run control.py\n",
    "res = idealized_control_markov_chain()\n",
    "display_results_fidelity(res)"
   ]
  },
  {
   "cell_type": "markdown",
   "metadata": {},
   "source": [
    "## 8. Deviations from the previous model\n",
    "\n",
    "This model is far from enough to describe the photon box experiment. Here are some of the elements it omits:\n",
    "\n",
    "* The detector  $D$ does not measure all of the atoms that pass through it: there is a probability that it **missed an atom**.\n",
    "* The detector $D$ sometimes gives **false measures**: there is a probability that it **made a mistake**.\n",
    "* The cavity is not a perfect reflector: it may absorb photons. Some photons are also created due to thermal fluctuations. This **relaxation of the cavity** is described by the [Lindblad equation](https://en.wikipedia.org/wiki/Lindbladian).\n",
    "\n",
    "\n",
    "Given a python file in this folder, the following table says whether or not the simulated system is controlled, and gives the corrections it does and doesn't includes. For instance, ```lindblad_control.py```  includes a control and takes the relaxation of the cavity into consideration via the Lindblad equation, but it does not account for delays, omissions and errors in the measurement process.\n",
    "\n",
    "\n",
    "| Simulation                        | Control | Omit | Mistake | Relaxation |\n",
    "| :--------------------------------:|:-------:| :---:| :------:| :---------:|\n",
    "| ```open_loop.py```                |  No     | No   | No      | No         |\n",
    "| ```control.py```                  |  Yes    | No   | No      | No         |\n",
    "| ```omission.py```                 |  Yes    | Yes  | No      | No         |\n",
    "| ```omission_error.py```           |  Yes    | Yes  | Yes     | No         |\n",
    "| ```omission_error_lindblad.py```  |  Yes    | Yes  | Yes     | Yes        |"
   ]
  },
  {
   "cell_type": "markdown",
   "metadata": {},
   "source": [
    "### Omission: when measurement does not take place\n",
    "Let $\\eta$ be the probability of detecting the atom."
   ]
  },
  {
   "cell_type": "code",
   "execution_count": 61,
   "metadata": {},
   "outputs": [],
   "source": [
    "eta = 0.8 "
   ]
  },
  {
   "cell_type": "markdown",
   "metadata": {},
   "source": [
    "If the atom is not detected then this still provides us with some information on the state of the cavity. However, since we do not know what the state of the atom is, $\\rho_{k+1}$ becomes a mixture of the states associated with measuring $g$ and $e$. Indeed, the best we can do is to approximate $\\rho_{k+1}$ by the expected value:\n",
    "\n",
    "$$ \\rho_{k+1} = \\mathbb{P}_e \\cdot \\mathbb{M}_e(\\rho_k) + \\mathbb{P}_g  \\cdot  \\mathbb{M}_g(\\rho_k) = M_e \\rho_k M_e^{\\dagger} + M_g \\rho_k M_g^{\\dagger}$$\n",
    "\n",
    "Note that since $M_e M_e^{\\dagger} + M_g M_g^{\\dagger} = I$, the matrix $\\rho_{k+1}$ is normalized: $\\text{Tr}(\\rho_{k+1}) = 1$.\n",
    "\n",
    "We define the Kraus map described above in the function `kraus_map_omission`."
   ]
  },
  {
   "cell_type": "code",
   "execution_count": 62,
   "metadata": {},
   "outputs": [],
   "source": [
    "def kraus_map_omission(rho, Mg_estimate, Me_estimate):\n",
    "    return Mg_estimate*rho*Mg_estimate.dag() + Me_estimate*rho*Me_estimate.dag()"
   ]
  },
  {
   "cell_type": "code",
   "execution_count": 63,
   "metadata": {},
   "outputs": [
    {
     "data": {
      "image/png": "[encoded data removed]",
      "text/plain": [
       "<Figure size 648x432 with 3 Axes>"
      ]
     },
     "metadata": {
      "needs_background": "light"
     },
     "output_type": "display_data"
    }
   ],
   "source": [
    "%run omission.py\n",
    "res = omission_markov_chain()\n",
    "display_results_fidelity(res)"
   ]
  },
  {
   "cell_type": "markdown",
   "metadata": {},
   "source": [
    "### Adding measurement errors to the mix\n",
    "Let $\\eta_e$ be the probability of measuring $y=g$ when the atom is in fact in state $\\mu=e$, and $\\eta_g$ be the probability of measuring $y=e$ when the atom is in fact in state $\\mu=g$."
   ]
  },
  {
   "cell_type": "code",
   "execution_count": 64,
   "metadata": {},
   "outputs": [],
   "source": [
    "eta_e = 0.13 \n",
    "eta_g = 0.11"
   ]
  },
  {
   "cell_type": "markdown",
   "metadata": {},
   "source": [
    "Suppose we have measured $y = g$: our estimate of the state of the cavity should take measurement errors into account. Bayes' rule gives:\n",
    "\n",
    "$\\mathbb{P}(\\mu = g | y = g) = \\mathbb{P}(y = g | \\mu = g) \\cdot \\frac{\\mathbb{P}(\\mu = g)}{\\mathbb{P}(y = g)}$ and $\\mathbb{P}(\\mu = e | y = g) = \\mathbb{P}(y = g | \\mu = e) \\cdot \\frac{\\mathbb{P}(\\mu = e)}{\\mathbb{P}(y = g)}$\n",
    "\n",
    "The expected value given the measurement outcome $y = g$ is therefore:\n",
    "\n",
    "$$\\tilde{\\rho_{k+1}} = \\mathbb{P}(\\mu = g | y = g) \\cdot \\mathbb{M}_g(\\rho_k) + \\mathbb{P}(\\mu = e | y = g) \\cdot \\mathbb{M}_e(\\rho_k) = \\frac {(1 - \\eta_g) \\cdot M_g \\rho_k M_g^{\\dagger} + \\eta_e \\cdot M_e \\rho_k M_e^{\\dagger}} {\\mathbb{P}(y = g)}$$\n",
    "\n",
    "When renormalized, this becomes:\n",
    "\n",
    "$$\\rho_{k+1} = (1 - \\eta_g) \\cdot M_g \\rho_k M_g^{\\dagger} + \\eta_e \\cdot M_e \\rho_k M_e^{\\dagger}$$\n",
    "\n",
    "Similarly if the measurement outcome is $y = e$ the estimated state of the cavity is:\n",
    "\n",
    "$$\\rho_{k+1} = \\eta_g \\cdot M_g \\rho_k M_g^{\\dagger} + (1 - \\eta_e) \\cdot M_e \\rho_k M_e^{\\dagger}$$\n",
    "\n",
    "The functions `kraus_map_mistake_e` and `kraus_map_mistake_g` below implement these Kraus maps:"
   ]
  },
  {
   "cell_type": "code",
   "execution_count": 65,
   "metadata": {},
   "outputs": [],
   "source": [
    "def kraus_map_mistake_e(rho_estimate, eta_e, Me_estimate, eta_g, Mg_estimate):\n",
    "    res = eta_g * (Mg_estimate*rho_estimate*Mg_estimate.dag()) + (1 - eta_e) * (Me_estimate*rho_estimate*Me_estimate.dag())\n",
    "    return res/res.tr()\n",
    "\n",
    "def kraus_map_mistake_g(rho_estimate, eta_e, Me_estimate, eta_g, Mg_estimate):\n",
    "    res = eta_e * (Me_estimate*rho_estimate*Me_estimate.dag()) + (1 - eta_g) * (Mg_estimate*rho_estimate*Mg_estimate.dag())\n",
    "    return res/res.tr()"
   ]
  },
  {
   "cell_type": "code",
   "execution_count": 66,
   "metadata": {
    "scrolled": true
   },
   "outputs": [
    {
     "data": {
      "image/png": "[encoded data removed]",
      "text/plain": [
       "<Figure size 648x432 with 3 Axes>"
      ]
     },
     "metadata": {
      "needs_background": "light"
     },
     "output_type": "display_data"
    }
   ],
   "source": [
    "%run omission_error.py\n",
    "res_omission_error = omission_error_markov_chain()\n",
    "display_results_fidelity(res_omission_error)"
   ]
  },
  {
   "cell_type": "markdown",
   "metadata": {},
   "source": [
    "### The Lindblad equation"
   ]
  },
  {
   "cell_type": "markdown",
   "metadata": {},
   "source": [
    "In the actual experiment, mirrors can't be perfect. Indeed, due to thermal effects they can both absorb and create photons. Whenever this happens, these abnormalities must be spotted and taken into account in the estimation of the state of the cavity.\n",
    "\n",
    "The evolution of the state of an imperfect cavity is described by the Linblad equation: \n",
    "$$\n",
    "\\frac{d \\rho}{dt} = -\\frac{\\kappa}{2}(1 + n_{th})(\\mathbf{a}^{\\dagger}\\mathbf{a}\\rho + \\rho\\mathbf{a}\\mathbf{a}^{\\dagger}-2\\mathbf{a}\\rho\\mathbf{a}^{\\dagger}) - -\\frac{\\kappa}{2}(\\mathbf{a}\\mathbf{a}^{\\dagger}\\rho + \\rho\\mathbf{a}^{\\dagger}\\mathbf{a} - 2\\mathbf{a}^{\\dagger}\\rho\\mathbf{a})\n",
    "$$\n",
    "\n",
    "Where $n_{th} = 0.05$ is the average number of thermal photons in the cavity, and $\\kappa = \\frac{1}{T_{cav}}$, with $T_{cav}$ the mean lifetime of a photon in the cavity. We must have $\\Delta T \\ll T_{cav}$, with $T_{cav}$ the sampling period, which is why the pertinent parameter is $\\frac{\\Delta T}{T_{cav}}$. "
   ]
  },
  {
   "cell_type": "code",
   "execution_count": 67,
   "metadata": {},
   "outputs": [],
   "source": [
    "## Lindblad parameters\n",
    "n_th = 0.05  #0.05\n",
    "Delta_t = 1\n",
    "T_cav = 1176  #1176"
   ]
  },
  {
   "cell_type": "markdown",
   "metadata": {},
   "source": [
    "For computability purposes, we limit the creation and absorbtion of photons in the cavity to $1$ photon. Thus we use the operators given by the following formulas:\n",
    "* no photon annihilation: $\\mathbf{M_0} = \\mathbf{I} - (1 + n_{th})\\frac{\\Delta}{2T_{cav}}\\mathbf{a}^{\\dagger}\\mathbf{a} - n_{th}\\frac{\\Delta}{2T_{cav}} \\mathbf{a}\\mathbf{a}^{\\dagger} $\n",
    "* 1 photon annihilation: $\\mathbf{M_{-1}} = \\sqrt{(1 + n_{th})\\frac{\\Delta}{T_{cav}}}\\mathbf{a}$\n",
    "* 1 photon creation: $\\mathbf{M_1} = \\sqrt{n_{th}\\frac{\\Delta}{T_{cav}}}\\mathbf{a}^{\\dagger}$"
   ]
  },
  {
   "cell_type": "code",
   "execution_count": 68,
   "metadata": {},
   "outputs": [],
   "source": [
    "# for rho_estimate\n",
    "M_0_real = q.qeye(n_real) - (1 + n_th) * Delta_t / (2 * T_cav) * a_real.dag() * a_real - n_th * Delta_t / (2 * T_cav) * a_real * a_real.dag()\n",
    "M_minus_1_real = np.sqrt((1 + n_th) * Delta_t / T_cav) * a_real\n",
    "M_1_real = np.sqrt(n_th * Delta_t / T_cav) * a_real.dag()\n",
    "# for rho_real\n",
    "M_0_estimate = q.qeye(n_estimate) - (1 + n_th) * Delta_t / (2 * T_cav) * a_estimate.dag() * a_estimate - n_th * Delta_t / (2 * T_cav) * a_estimate * a_estimate.dag()\n",
    "M_minus_1_estimate = np.sqrt((1 + n_th) * Delta_t / T_cav) * a_estimate\n",
    "M_1_estimate = np.sqrt(n_th * Delta_t / T_cav) * a_estimate.dag()"
   ]
  },
  {
   "cell_type": "markdown",
   "metadata": {},
   "source": [
    "Then the Kraus map associated with the Lindblad equation is given by:\n",
    "$$\n",
    "\\hat{\\mathbb{L}} \\rho = \\rho_{t + \\Delta T} = \\mathbf{M_0}\\rho\\mathbf{M_0}^{\\dagger} + \\mathbf{M_{-1}}\\rho\\mathbf{M_{-1}}^{\\dagger} + \\mathbf{M_1}\\rho\\mathbf{M_1}^{\\dagger}\n",
    "$$"
   ]
  },
  {
   "cell_type": "code",
   "execution_count": 69,
   "metadata": {
    "scrolled": true
   },
   "outputs": [
    {
     "data": {
      "image/png": "[encoded data removed]",
      "text/plain": [
       "<Figure size 648x432 with 3 Axes>"
      ]
     },
     "metadata": {
      "needs_background": "light"
     },
     "output_type": "display_data"
    }
   ],
   "source": [
    "%run omission_error_lindblad.py\n",
    "res_omission_error_lindblad = omission_error_lindblad_markov_chain()\n",
    "display_results_fidelity_lindblad(res_omission_error_lindblad)"
   ]
  },
  {
   "cell_type": "markdown",
   "metadata": {},
   "source": [
    "# 9. A new and more efficient Lyapunov function: $W_{\\epsilon}$\n",
    "\n",
    "In this part, the proofs are done in the idealized case (no Lindblad equation, measurement errors or omissions). However, the code below does take omissions and errors into account. The results in this section were proven in [Amini et al. (2011)](https://arxiv.org/pdf/1103.1365.pdf).\n",
    "\n",
    "## Limits of fidelity\n",
    "\n",
    "Even though fidelity leads to decent results and theoretically guarantees convergence, it is not wholly satisfying. The main issue is that without an *ad hoc* kick, fidelity does not prevent the system from converging towards a random Fock state $|n\\rangle\\langle n|$ with $n \\ne n_{tag}$. This is due to the fact that the fidelity $F$ vanishes in each Fock state. The constant kick prevents convergence to the undesired Fock states, but is not optimized: indeed, it does not take into account the \"distance\" to the target state.\n",
    "\n",
    "In order to sum up our goals, let us make a list of the desired properties expected from a correct Lyapunov function : \n",
    "* Obviously we want our function be maximal around the desired Fock state.\n",
    "* When we encounter a Fock state which is not the target state, we want to move far from it with a small control (we want the system to change its state drastically even following a small perturbation). Since we chose our control in order to maximize the Lyapunov function, we are therefore looking for a **strongly convex function around the wrong Fock states**.\n",
    "* Conversely, when the system has reached the desired state we do not want it to move. Thus we want even a small perturbation (i.e. control) to entail a huge diminution of the Lyapunov function, which corresponds to a **strongly concave function around the targeted Fock state**.\n"
   ]
  },
  {
   "cell_type": "markdown",
   "metadata": {},
   "source": [
    "## The function $W_{\\epsilon}$\n",
    "\n",
    "In order to resolve the previously mentionned issues we introduce the function for $\\epsilon > 0$ :\n",
    "\n",
    "$$W_{\\epsilon}(\\rho):= \\sum_{n=1}^d (\\sigma_n\\langle n|\\rho|n\\rangle + \\frac{\\epsilon}{4}\\langle n|\\rho|n\\rangle^2) = W_0(\\rho) + \\frac{\\epsilon}{4} \\sum_{n=1}^d \\langle n|\\rho|n\\rangle^2$$ \n",
    "\n",
    "where the number $(\\sigma_n)_{1\\leq n \\leq d}$ are to be chosen wisely. The aim of such a Lyapunov function is to still adimts a maximum around $\\rho_{tag}$  but to be strongly convex for a small control in the states $|n\\rangle \\langle n|$.\n",
    "\n",
    "These results are summed up in the two followings lemmas:\n",
    "\n",
    "**Lemma 1**: Assuming the undirected connectivity graph of the Hamiltonian $\\textbf{H}=\\textbf{a}^\\dagger - \\textbf{a}$ is connected. \n",
    "We note $\\textbf{R}^{\\textbf{H}}= (2(\\delta_{n_1\\,\\,n_2}\\langle n_1|\\textbf{H}^2|n_2\\rangle - \\langle n_1|\\textbf{H}|n_2\\rangle^2))$.\n",
    "\n",
    "Then :\n",
    "\n",
    "$$\\forall\\lambda_n\\geq 0, \\quad n\\ne n_{tag}, \\quad \\exists\\sigma=(\\sigma_n)_{n}\\in\\mathbb{R}^d, \\quad | \\quad \\textbf{R}^{\\textbf{H}}\\sigma = -\\lambda$$\n",
    "\n",
    "where $\\lambda = (\\lambda_1, \\,\\ldots\\, , -\\sum_{n\\ne n_{tag}}\\lambda_n, \\,\\ldots\\, , \\lambda_d)^{T}$.\n",
    "\n",
    "**Lemma 2**\n",
    "\n",
    "Given $n_{tag}\\in \\{ 1,\\,\\ldots\\, ,d\\}$, let $\\forall n\\ne n_{tag},\\lambda_n>0$. \n",
    "\n",
    "Then, lemma 1 gives us $\\sigma\\in\\mathbb{R}^d$.\n",
    "\n",
    "Then we have the desired local convexity and concavity properties:\n",
    "\n",
    "$$\\forall n\\ne n_{tag}, \\quad \\frac{d^2 W_0(\\mathbb{U}_\\alpha|n\\rangle\\langle n|)}{d\\alpha^2}\\bigg|_{\\alpha=0}=\\lambda_n > 0 \\text{ and } \\frac{d^2 W_0(\\mathbb{U}_\\alpha|n_{tag}\\rangle\\langle n_{tag}|)}{d\\alpha^2}\\bigg|_{\\alpha=0}=-\\sum_{n\\ne n_{tag}}\\lambda_n < 0 $$"
   ]
  },
  {
   "cell_type": "markdown",
   "metadata": {},
   "source": [
    "The functions `W_0_estimate` and `W_eps_estimate` below compute the values taken by the Lyapunov functions $W_0$ and $W_{\\epsilon}$. `R` is the Laplacian matrix of the graph defined by the system's Hamiltonian."
   ]
  },
  {
   "cell_type": "code",
   "execution_count": 111,
   "metadata": {},
   "outputs": [],
   "source": [
    "R = np.zeros((n_estimate, n_estimate)) \n",
    "R[0][0] = 6\n",
    "R[1][0] = -4\n",
    "R[n_estimate - 1][n_estimate - 1] = 4*n_estimate + 2\n",
    "R[n_estimate - 2][n_estimate - 1] = -2*n_estimate\n",
    "for i in range(1, n_estimate - 1):\n",
    "    R[i][i] = 4*(i+1) + 2\n",
    "    R[i-1][i] = -2*(i+1)\n",
    "    R[i+1][i] = -2*(i+1) - 2\n",
    "R = np.matrix(R)\n",
    "\n",
    "# Definition of \"lambda_k\" parameters\n",
    "lambdas = np.zeros(n_estimate)\n",
    "for i in range(n_estimate):\n",
    "    if i == target:\n",
    "        lambdas[i] = 1 - n_estimate\n",
    "    else:\n",
    "        lambdas[i] = 1\n",
    "lambdas = np.matrix(lambdas).transpose()\n",
    "\n",
    "# solve for sigma\n",
    "sigmas = ((-1)*(np.linalg.inv(R))*lambdas).transpose()\n",
    "tab = np.arange(n_estimate)\n",
    "sigmas = np.array(sigmas)[0]\n",
    "#plt.plot(tab, sigmas)\n",
    "\n",
    "sigmas_norm = sigmas/sigmas[target]\n",
    "\n",
    "# definition of matrix diag(sigmas_norm)\n",
    "Sigma = np.zeros((n_estimate,n_estimate))\n",
    "for i in range(n_estimate):\n",
    "    Sigma[i][i] = sigmas_norm[i]\n",
    "Sigma = q.Qobj(Sigma)"
   ]
  },
  {
   "cell_type": "code",
   "execution_count": 112,
   "metadata": {},
   "outputs": [],
   "source": [
    "def W_0_estimate(rho):\n",
    "    res = 0\n",
    "    for i in range(n_estimate):\n",
    "        res += sigmas_norm[i] * (q.fock_dm(n_estimate,i)*rho).tr()\n",
    "    return res"
   ]
  },
  {
   "cell_type": "code",
   "execution_count": 113,
   "metadata": {},
   "outputs": [],
   "source": [
    "# We can also define W_epsilon\n",
    "eps = 1/(4*n_estimate + 2)\n",
    "\n",
    "def W_eps_estimate(rho):\n",
    "    w = W_0_estimate(rho)\n",
    "    for i in range(n_estimate):\n",
    "        w += (eps/4)*(q.fock_dm(n_estimate,i)*rho).tr()**2\n",
    "    return w"
   ]
  },
  {
   "cell_type": "markdown",
   "metadata": {},
   "source": [
    "The convergence of the Markov Chain with the new Lyapunov function is established in the following theorem:\n",
    "\n",
    "**Theorem**\n",
    "\n",
    "We are using the previous notations and assuming the hypothesis of the lemma.\n",
    "\n",
    "Let $\\epsilon > 0$ such that $\\forall n\\ne n_{tag}, \\lambda_n+\\epsilon(\\langle n_1|\\textbf{H}|n_2\\rangle^2-\\langle n_1|\\textbf{H}^2|n_2\\rangle)>0$.\n",
    "\n",
    "Let, for an $\\underline{\\alpha}>0$ to be chosen :\n",
    "\n",
    "$$\\alpha_k = \\underset{\\alpha\\in [-\\underline{\\alpha}, \\underline{\\alpha}]}{\\text{argmax}}(W_{\\epsilon}(\\mathbb{U}_\\alpha\\rho_{k+\\frac{1}{2}}))$$\n",
    "\n",
    "Then : \n",
    "\n",
    "$$\\mathbb{P}(\\rho_k \\longrightarrow \\rho_{tag})=1 $$"
   ]
  },
  {
   "cell_type": "markdown",
   "metadata": {},
   "source": [
    "**Proof**: The idea is to proove that $W_{\\epsilon}(\\rho_k)$ is a sub-martingale and then use the stochastic version of LaSalle's theorem.\n",
    "\n",
    "A few computations leads to :\n",
    "\n",
    "$$\\mathbb{E}(W_{\\epsilon}(\\rho_{k+1})|\\rho_k)-W_{\\epsilon}(\\rho_k)=Q_1(\\rho_k)+Q_2(\\rho_k) $$\n",
    "\n",
    "where :\n",
    "\n",
    "$$ \\begin{align}\n",
    "Q_1(\\rho) &:= \\sum_{\\mu\\in \\{g, e\\} }P_{\\mu,\\rho}(W_{\\epsilon}(\\mathbb{M}_{\\mu}\\rho)-W_{\\epsilon}(\\rho))\\\\\n",
    "Q_2(\\rho) &:= \\sum_{\\mu\\in \\{g, e\\} }P_{\\mu,\\rho}(\\underset{\\alpha\\in [-\\underline{\\alpha}, \\underline{\\alpha}]}{\\text{max}}(W_{\\epsilon}(\\mathbb{U}_\\alpha\\mathbb{M}_{\\mu}\\rho))-W_{\\epsilon}(\\mathbb{M}_{\\mu}\\rho))\n",
    "\\end{align}$$\n",
    "\n",
    "are two nonnegative continuous functions. Thus, the stochastic version of  LaSalle's theorem states that :\n",
    "\n",
    "$$\\Omega \\subset \\{ \\rho  |  Q_1(\\rho)=Q_2(\\rho)=0\\}$$\n",
    "\n",
    "where $\\Omega$ is the $\\omega$-limit set of $(\\rho_k)_{k\\in\\mathbb(N)}$.\n",
    "\n",
    "Then, some small manipulations gives us that :\n",
    "\n",
    "* $Q_1(\\rho)=0$ implies $\\exists n\\in \\{ 1,\\ldots,d\\}, \\rho=|n\\rangle\\langle n|$\n",
    "\n",
    "* $Q_2(|n\\rangle\\langle n|)=0$ implies $n=n_{tag}$\n",
    "\n",
    "Which concludes the proof."
   ]
  },
  {
   "cell_type": "markdown",
   "metadata": {},
   "source": [
    "## Remark\n",
    "\n",
    "The second lemma suggests that $\\epsilon=0$ would be enough to have the desired result. However, this choice implies $Q_1=0$. Thus, the stochastic version of LaSalle's theorem would not give us enough information to conclude. $\\epsilon$ seems to be mere tool for the proof to work out. In any case, we implemented both functions, and both seem to give satisfying results."
   ]
  },
  {
   "cell_type": "markdown",
   "metadata": {},
   "source": [
    "## Computating the control with these new Lyapunov functions\n",
    "\n",
    "$\\newcommand{\\ket}[1]{|#1\\rangle}$\n",
    "$\\newcommand{\\bra}[1]{\\langle #1 |}$\n",
    "\n",
    "\n",
    "Assuming that we use the Lyapunov function $W_{\\epsilon}$, we can calculate the control with the following method.\n",
    "\n",
    "Using Baker-Campbell-Hausdorff formula, we have:\n",
    "$$\n",
    "\\mathbb{U}_{\\alpha}(\\rho) = \\rho + \\alpha [\\mathbf{a}^{\\dagger} - \\mathbf{a}, ~ \\rho] + \\frac{\\alpha^2}{2}[[\\mathbf{a}^{\\dagger} - \\mathbf{a},~ [ [\\mathbf{a}^{\\dagger} - \\mathbf{a}, ~ \\rho]  ] + \\mathcal{O}(\\vert \\alpha \\vert^3)\n",
    "$$\n",
    "then we can write:\n",
    "$$\n",
    "\\begin{align}\n",
    "W_0(\\mathbb{U}_{\\alpha}(\\rho)) = & Tr(\\Sigma^{n_{tag}} \\mathbb{U}_{\\alpha}(\\rho)) \\\\\n",
    "   = & Tr(\\Sigma^{n_{tag}} \\rho) + \\alpha Tr(\\Sigma^{n_{tag}} [\\mathbf{a}^{\\dagger} - \\mathbf{a}, ~ \\rho]) + \\frac{\\alpha^2}{2} Tr(\\Sigma^{n_{tag}} [\\mathbf{a}^{\\dagger} - \\mathbf{a},~ [ \\mathbf{a}^{\\dagger} - \\mathbf{a}, ~ \\rho]  ]) + \\mathcal{O}(\\vert \\alpha \\vert^3)\n",
    "\\end{align}\n",
    "$$\n",
    "And, for $W_{\\epsilon}$, we can also write $W_{\\epsilon}(\\mathbb{U}_{\\alpha}(\\rho)) = a_0^{\\epsilon} + a_1^{\\epsilon} \\alpha  + a_2^{\\epsilon} \\frac{\\alpha^2}{2} + \\mathcal{O}(\\vert \\alpha \\vert^3)$.\n",
    "With:\n",
    "$$ \n",
    "a_1^{\\epsilon} =  Tr(\\Sigma^{n_{tag}} \\rho) + \\frac{\\epsilon}{2} \\sum_{i = 1}^d \\sigma_n \\bra{n} \\rho \\ket{n} \\bra{n} [\\mathbf{a}^{\\dagger} - \\mathbf{a}, ~ \\rho] \\ket{n}\n",
    "$$\n",
    "And\n",
    "$$\n",
    "a_2^{\\epsilon} = Tr(\\Sigma^{n_t} [\\mathbf{a}^{\\dagger} - \\mathbf{a},~ [ \\mathbf{a}^{\\dagger} - \\mathbf{a}, ~ \\rho]  ]) + \\frac{\\epsilon}{2} \\sum_{i = 1}^d \\sigma_n \\bra{n} [\\mathbf{a}^{\\dagger} - \\mathbf{a}, ~ \\rho] \\ket{n}^2 + \\frac{\\epsilon}{2} \\sum_{i = 1}^d \\sigma_n \\bra{n} \\rho \\ket{n} \\bra{n} [\\mathbf{a}^{\\dagger} - \\mathbf{a},~ [ \\mathbf{a}^{\\dagger} - \\mathbf{a}, ~ \\rho]  ] \\ket{n}\n",
    "$$\n",
    "Thus, the computation of the control is easy\n",
    "$$\n",
    "\\alpha_k = \\underset{\\alpha \\in - [-\\overline{\\alpha}, \\overline{\\alpha}]}{argmax}~(W_0(\\mathbb{U}_{\\alpha}(\\rho_{k + \\frac{1}{2}})))\n",
    "$$\n",
    "The control $\\alpha_k$ depends of the sign of $a_2$, $a_1$ and wheter $\\frac{-a_1}{a_2} \\in [-\\overline{\\alpha}, \\overline{\\alpha}]$ or not. It is equal to $\\frac{-a_1}{a_2}$, $-\\overline{\\alpha}$ or $\\overline{\\alpha}$. It is computed in the code.\n"
   ]
  },
  {
   "cell_type": "code",
   "execution_count": 114,
   "metadata": {},
   "outputs": [],
   "source": [
    "# Computation of the coefficients of the quadratic approximation\n",
    "def a_1_eps(rho):\n",
    "    a = (rho*commutator(Sigma,Delta)).tr()\n",
    "    comm = commutator(Delta, rho)\n",
    "    for i in range(n_estimate):\n",
    "        a += (eps/2)*(q.fock_dm(n_estimate,i)*rho).tr()*(q.fock_dm(n_estimate,i)*comm).tr()\n",
    "    return a\n",
    "    \n",
    "def a_2_eps(rho):\n",
    "    a = (rho*commutator(commutator(Sigma,Delta),Delta)).tr()\n",
    "    comm_1 = commutator(Delta, rho)\n",
    "    comm_2 = commutator(Delta, commutator(Delta,rho))\n",
    "    for i in range(n_estimate):\n",
    "        a += (eps/2)*(q.fock_dm(n_estimate,i)*comm_1).tr()**2 + (eps/2)*(q.fock_dm(n_estimate,i)*rho).tr()*(q.fock_dm(n_estimate,i)*comm_2).tr()\n",
    "    return a"
   ]
  },
  {
   "cell_type": "markdown",
   "metadata": {},
   "source": [
    "# 10. Taking delays into account, and putting it all together"
   ]
  },
  {
   "cell_type": "markdown",
   "metadata": {},
   "source": [
    "Below is the code for the full Markov-Chain, which performs a closed-loop simulation of the system, and takes into account:\n",
    "* measurement omissions\n",
    "* measurement errors\n",
    "* Lindblad's equation\n",
    "* atom delay"
   ]
  },
  {
   "cell_type": "code",
   "execution_count": 125,
   "metadata": {},
   "outputs": [],
   "source": [
    "## Anticipation\n",
    "# in this function: i is the iteration, tau is the delay\n",
    "# alpha_values is [alpha_0, alpha_1, ... , alpha_{k-1}]\n",
    "# rho_k_proj is the estimate state after the projection of the measure and Linblad Kraus map\n",
    "def anticipation(i, tau, alpha_values, rho_k_proj):\n",
    "    rho_ant = rho_k_proj #initialization\n",
    "    for j in range(tau):\n",
    "        if i + j - tau >= 0:\n",
    "            if j == 0:\n",
    "                rho_ant = displacement(rho_ant, alpha_values[i + j - tau], n_estimate)\n",
    "            else:\n",
    "                rho_ant = kraus_map_omission(rho_ant, Mg_estimate, Me_estimate)\n",
    "                rho_ant =  kraus_Linblad_estimate(rho_ant, M_0_estimate, M_1_estimate, M_minus_1_estimate)\n",
    "                rho_ant = displacement(rho_ant, alpha_values[i + j - tau], n_estimate)\n",
    "        else:\n",
    "            if j != 0:\n",
    "                rho_ant = kraus_map_omission(rho_ant, Mg_estimate, Me_estimate)\n",
    "                rho_ant =  kraus_Linblad_estimate(rho_ant, M_0_estimate, M_1_estimate, M_minus_1_estimate)\n",
    "        rho_ant /= rho_ant.tr()\n",
    "    # We need to apply a last time the measurement process\n",
    "    rho_ant = kraus_map_omission(rho_ant, Mg_estimate, Me_estimate)\n",
    "    rho_ant =  kraus_Linblad_estimate(rho_ant, M_0_estimate, M_1_estimate, M_minus_1_estimate)\n",
    "    rho_ant /= rho_ant.tr()\n",
    "    return rho_ant"
   ]
  },
  {
   "cell_type": "code",
   "execution_count": 126,
   "metadata": {},
   "outputs": [],
   "source": [
    "## Markov_chain with good treatment of the delay\n",
    "# alpha_bar is the maximum value of abs(alpha_k)\n",
    "alpha_max = 0.1\n",
    "Delta = (q.destroy(n_estimate)).dag() - q.destroy(n_estimate)\n",
    "def lyapunov(rho_1, rho_2): # in this case the Lyapunov function is the trace distance\n",
    "    return 1 - (rho_1 *rho_2).tr()\n",
    "\n",
    "\n",
    "## Definition of p_inf, P_sup and the loss of information\n",
    "def P_inf_real(rho):\n",
    "    prob = 0\n",
    "    for i in range(target):\n",
    "        prob += (q.fock_dm(n_real,i)*rho).tr()\n",
    "    return prob\n",
    "\n",
    "def P_sup_real(rho):\n",
    "    prob = 0\n",
    "    for i in range(target + 1, n_real):\n",
    "        prob += (q.fock_dm(n_real,i)*rho).tr()\n",
    "    return prob\n",
    "\n",
    "def loss_real(rho):\n",
    "    loss = 0\n",
    "    for i in range(n_estimate):\n",
    "        loss += (q.fock_dm(n_real,i)*rho).tr()\n",
    "    loss = 1 - loss\n",
    "    return loss\n",
    "\n",
    "def loss_estimate(rho):\n",
    "    loss = 0\n",
    "    for i in range(n_estimate):\n",
    "        loss += (q.fock_dm(n_estimate,i)*rho).tr()\n",
    "    loss = 1 - loss\n",
    "    return loss\n",
    "\n",
    "## Mean photon number\n",
    "def mean_photon_estimate(rho):\n",
    "    mean = 0\n",
    "    for k in range(n_estimate):\n",
    "        mean += k*(q.fock_dm(n_estimate, k)*rho).tr()\n",
    "    return mean\n",
    "\n",
    "def mean_photon_real(rho):\n",
    "    mean = 0\n",
    "    for k in range(n_real):\n",
    "        mean += k*(q.fock_dm(n_real, k)*rho).tr()\n",
    "    return mean"
   ]
  },
  {
   "cell_type": "code",
   "execution_count": 127,
   "metadata": {},
   "outputs": [],
   "source": [
    "# tau is the delay\n",
    "def markov_chain_delay_omission_errors(tau):\n",
    "    fidelities_values_estimate = []\n",
    "    dist_values_estimate = []\n",
    "    fidelities_values_real = []\n",
    "    alpha_k_values = []  ## Also used for feedback\n",
    "    P_inf_values = []\n",
    "    P_sup_values = []\n",
    "    loss_values_real = []\n",
    "    mean_values_estimate = []\n",
    "    rho_real = rho_init_real # actual (pure) state of the system\n",
    "    rho_estimate = rho_init_estimate # estimated density over possible states of the system\n",
    "    dist_values_estimate.append(1 - W_eps_estimate(rho_estimate))\n",
    "    fidelities_values_real.append(lyapunov(rho_real,rho_target_real))\n",
    "    fidelities_values_estimate.append(lyapunov(rho_estimate, rho_target_estimate))\n",
    "    P_inf_values.append(P_inf_real(rho_real))\n",
    "    P_sup_values.append(P_sup_real(rho_real))\n",
    "    loss_values_real.append(loss_real(rho_real))\n",
    "    mean_values_estimate.append(mean_photon_estimate(rho_estimate))\n",
    "    for i in range(num_steps):\n",
    "        if int(i/500) == i/500:\n",
    "            print(\"Iteration number:\", i)\n",
    "        # Measurement: project rho_real, project rho_estimate if measurement occurs\n",
    "        proba_excited = np.real((Me_real*rho_real*Me_real.dag()).tr())\n",
    "        mu = np.random.binomial(1, proba_excited) # 0 is ground, 1 is excited\n",
    "        is_measured = np.random.binomial(1, eta)\n",
    "        if mu == 0:\n",
    "            rho_real = measure_projection(rho_real, Mg_real)\n",
    "            if is_measured == 1:\n",
    "                make_mistake = np.random.binomial(1, eta_g) # whether or not there is a detection error\n",
    "                if make_mistake == 1: # we detect an excited state: y=e\n",
    "                    rho_estimate = kraus_map_mistake_e(rho_estimate, eta_e, Me_estimate, eta_g, Mg_estimate)\n",
    "                else: # we detect a ground state: y=g\n",
    "                    rho_estimate = kraus_map_mistake_g(rho_estimate, eta_e, Me_estimate, eta_g, Mg_estimate)\n",
    "        if mu == 1:\n",
    "            rho_real = measure_projection(rho_real, Me_real)\n",
    "            if is_measured == 1:\n",
    "                make_mistake = np.random.binomial(1, eta_e) # whether or not there is a detection error\n",
    "                if make_mistake == 1: # we detect a ground state: y=g\n",
    "                    rho_estimate = kraus_map_mistake_g(rho_estimate, eta_e, Me_estimate, eta_g, Mg_estimate)\n",
    "                else: # we detect an excited state: y=e\n",
    "                    rho_estimate = kraus_map_mistake_e(rho_estimate, eta_e, Me_estimate, eta_g, Mg_estimate)\n",
    "        if is_measured == 0:\n",
    "            rho_estimate = kraus_map_omission(rho_estimate, Mg_estimate, Me_estimate)\n",
    "        # don't project rho_estimate if measurement occurs\n",
    "        # Lindblad: project rho_real depending on whether a photon appears, disappears or nothing happens\n",
    "        proba_0_real = np.real((M_0_real * rho_real * M_0_real.dag()).tr())\n",
    "        proba_1_real = np.real((M_1_real * rho_real * M_1_real.dag()).tr())\n",
    "        proba_minus_1_real = np.real((M_minus_1_real * rho_real * M_minus_1_real.dag()).tr())\n",
    "        # # the probabilities are not perfectly normalized\n",
    "        sum_proba = proba_0_real + proba_1_real + proba_minus_1_real\n",
    "        proba_0_real /= sum_proba\n",
    "        proba_1_real /= sum_proba\n",
    "        proba_minus_1_real /= sum_proba\n",
    "        lindblad_possible_outcomes = [1, 0, -1]\n",
    "        lindblad_probabilities = [proba_1_real, proba_0_real, proba_minus_1_real]\n",
    "        lindblad_outcome = np.random.choice(lindblad_possible_outcomes, 1, p=lindblad_probabilities)[0]\n",
    "        if lindblad_outcome == 0:\n",
    "            rho_real = M_0_real * rho_real * M_0_real.dag()\n",
    "        elif lindblad_outcome == 1:\n",
    "            rho_real = M_1_real * rho_real * M_1_real.dag()\n",
    "            print(\"Atom number \", i, \"Linblad outcome = \", 1)\n",
    "        elif lindblad_outcome == -1:\n",
    "            rho_real = M_minus_1_real * rho_real * M_minus_1_real.dag()\n",
    "            print(\"Atom number \", i, \"Linblad outcome = \", -1)\n",
    "        rho_real /= rho_real.tr()\n",
    "        rho_estimate =  kraus_Linblad_estimate(rho_estimate,M_0_estimate, M_1_estimate, M_minus_1_estimate)\n",
    "        rho_estimate /= rho_estimate.tr() # To avoid numerical errors\n",
    "        # Anticipation\n",
    "        rho_ant = anticipation(i, tau, alpha_k_values, rho_estimate)\n",
    "        # Control\n",
    "        # This computed contol will be applied tau iterations later (in the algorithm)\n",
    "        a1 = np.real(a_1_eps(rho_ant))\n",
    "        a2 = np.real(a_2_eps(rho_ant))\n",
    "        if a2 < 0:\n",
    "            alpha_k = (-1)*a1/a2\n",
    "            if abs(alpha_k) > alpha_max:\n",
    "                alpha_k = np.sign(alpha_k)*alpha_max\n",
    "        else:\n",
    "            alpha_k = np.sign(a1)*alpha_max\n",
    "        # Kick\n",
    "        if np.real((rho_ant*q.fock_dm(n_estimate,target)).tr()) < epsilon and i >= tau*2:\n",
    "            alpha_k = c_2*np.sign(target - mean_photon_estimate(rho_ant))\n",
    "            print(\"Atom number \", i, \"Kick = \", alpha_k)\n",
    "        if i >= tau:\n",
    "            rho_real = displacement(rho_real, alpha_k_values[i - tau], n_real)\n",
    "            rho_estimate = displacement(rho_estimate,alpha_k_values[i - tau], n_estimate)\n",
    "        # Add the Lyapunov value to the list\n",
    "        alpha_k_values.append(alpha_k)\n",
    "        dist_values_estimate.append(1 - W_eps_estimate(rho_estimate))\n",
    "        fidelities_values_real.append(lyapunov(rho_real,rho_target_real))\n",
    "        fidelities_values_estimate.append(lyapunov(rho_estimate, rho_target_estimate))\n",
    "        P_inf_values.append(P_inf_real(rho_real))\n",
    "        P_sup_values.append(P_sup_real(rho_real))\n",
    "        loss_values_real.append(loss_real(rho_real))\n",
    "        mean_values_estimate.append(mean_photon_estimate(rho_estimate))\n",
    "    return fidelities_values_real, fidelities_values_estimate ,dist_values_estimate, alpha_k_values, P_inf_values, P_sup_values, loss_values_real, mean_values_estimate"
   ]
  },
  {
   "cell_type": "code",
   "execution_count": null,
   "metadata": {},
   "outputs": [
    {
     "name": "stdout",
     "output_type": "stream",
     "text": [
      "Iteration number: 0\n"
     ]
    }
   ],
   "source": [
    "tau = 3\n",
    "res = markov_chain_delay_omission_errors(tau)"
   ]
  },
  {
   "cell_type": "markdown",
   "metadata": {},
   "source": [
    "Graphing tools:"
   ]
  },
  {
   "cell_type": "code",
   "execution_count": null,
   "metadata": {},
   "outputs": [],
   "source": [
    "def display_results(res):\n",
    "    fig2, (ax1, ax2, ax3) = plt.subplots(3, 1, figsize=(9,6))\n",
    "    plt.rc('font',size=10)\n",
    "    steps_plus = np.arange(num_steps + 1)\n",
    "    steps = np.arange(num_steps)\n",
    "    # Control\n",
    "    control = res[3]\n",
    "    ax1.set_xlabel(\"Iterations\")\n",
    "    ax1.set_ylabel(\"Control alpha\")\n",
    "    ax1.set_xlim(0, num_steps + 1)\n",
    "    ax1.set_ylim(-0.1,0.1)\n",
    "    ax1.plot(steps, control, color = 'black')\n",
    "    # Real probabilities\n",
    "    fid = res[0].copy()\n",
    "    P_inf = res[4]\n",
    "    P_sup = res[5]\n",
    "    for i in range(num_steps + 1):\n",
    "        fid[i] = 1 - fid[i] #We transform fidelity into probability\n",
    "    ax2.set_xlabel(\"Iterations\")\n",
    "    ax2.set_ylabel(\"Real robabilities\")\n",
    "    ax2.set_xlim(0, num_steps + 1)\n",
    "    ax2.set_ylim(0.0,1.0)\n",
    "    ax2.plot(steps_plus, fid, color = 'b')\n",
    "    ax2.plot(steps_plus, P_inf, color = 'r')\n",
    "    ax2.plot(steps_plus, P_sup, color = 'g')\n",
    "    # Lyapunov function\n",
    "    dist_estimate = res[2]\n",
    "    ax3.set_xlabel(\"Iterations\")\n",
    "    ax3.set_ylabel(\"Distance 1-W\")\n",
    "    ax3.set_xlim(0, num_steps + 1)\n",
    "    ax3.set_ylim(0.0,1.0)\n",
    "    ax3.plot(steps_plus, dist_estimate, color = 'c')\n",
    "    plt.show()\n",
    "\n",
    "def graph_real(res):\n",
    "    fid = res[0].copy()\n",
    "    P_inf = res[4]\n",
    "    P_sup = res[5]\n",
    "    for i in range(num_steps + 1):\n",
    "        fid[i] = 1 - fid[i] #We transform fidelity into probability\n",
    "    steps = np.arange(num_steps + 1)\n",
    "    plt.ylim(0.,1.)\n",
    "    plt.plot(steps, fid, color = 'b')\n",
    "    plt.plot(steps, P_inf, color = 'r')\n",
    "    plt.plot(steps, P_sup, color = 'g')\n",
    "    plt.show()\n",
    "\n",
    "def graph_control(res):\n",
    "    control = res[3]\n",
    "    steps = np.arange(num_steps)\n",
    "    plt.plot(steps, control, color = 'black')\n",
    "    plt.show()\n",
    "\n",
    "def graph_dist_estimate(res):\n",
    "    dist_estimate = res[2]\n",
    "    steps = np.arange(num_steps + 1)\n",
    "    plt.ylim(0.,1.)\n",
    "    plt.plot(steps, dist_estimate, color = 'b')\n",
    "    plt.show()\n",
    "\n",
    "def graph_fidelities_estimate(res):\n",
    "    fid = res[1]\n",
    "    steps = np.arange(num_steps + 1)\n",
    "    plt.ylim(0.,1.)\n",
    "    plt.plot(steps, fid, color = 'b')\n",
    "    plt.show()\n",
    "\n",
    "def graph_loss_real(res):\n",
    "    loss = res[6]\n",
    "    steps = np.arange(num_steps + 1)\n",
    "    plt.plot(steps, loss, color = 'orange')\n",
    "    plt.show()\n",
    "\n",
    "def graph_mean(res):\n",
    "    mean = res[7]\n",
    "    steps = np.arange(num_steps + 1)\n",
    "    objective = [target for i in range(num_steps + 1)]\n",
    "    plt.plot(steps, mean, color = 'g')\n",
    "    plt.plot(steps, objective, color = 'r')\n",
    "    plt.show()\n",
    "\n",
    "def mean_prob(res):\n",
    "    mean_values = res[0]\n",
    "    total = 0\n",
    "    for i in range(num_steps + 1):\n",
    "        total += mean_values[i]\n",
    "    mean = total/(num_steps + 1)\n",
    "    return 1 - mean"
   ]
  },
  {
   "cell_type": "code",
   "execution_count": null,
   "metadata": {},
   "outputs": [],
   "source": [
    "display_results(tau)"
   ]
  },
  {
   "cell_type": "markdown",
   "metadata": {},
   "source": [
    "# Appendix: Baker-Campbell-Hausdorff formula\n",
    "\n",
    "**Theorem** \n",
    "Let $\\textbf{A}$ and $\\textbf{B}$ two operators. Then, we have the following formula :\n",
    "\n",
    "$$e^{\\textbf{A}}\\,\\textbf{B}\\, e^{\\textbf{-A}} = \\textbf{B}+\\frac{1}{1!}[\\textbf{A},\\textbf{B}]+\\frac{1}{2!}[\\textbf{A},[\\textbf{A},\\textbf{B}]]+\\frac{1}{3!}[\\textbf{A},[\\textbf{A},[\\textbf{A},\\textbf{B}]]]+...$$ \n",
    "\n",
    "**Proof**: Let define for $t\\geqslant 0$ the function $Y$ as :\n",
    "\n",
    "$$Y(t):= e^{\\textbf{A}t}\\,\\textbf{B}\\, e^{\\textbf{-A}t}$$\n",
    "\n",
    "Then we calculate its derivative :\n",
    "\n",
    "$$\\begin{align}\n",
    "Y^{(1)}(t) = &\\textbf{A}e^{\\textbf{A}t}\\,\\textbf{B}\\, e^{\\textbf{-A}t}-e^{\\textbf{A}t}\\,\\textbf{B}\\, \\textbf{A}e^{\\textbf{-A}t}\\\\\n",
    "= & e^{\\textbf{A}t}\\,\\textbf{A}\\,\\textbf{B}\\, e^{\\textbf{-A}t}-e^{\\textbf{A}t}\\,\\textbf{B}\\, \\textbf{A}\\,e^{\\textbf{-A}t}\\\\\n",
    "= & e^{\\textbf{A}t}\\,[\\textbf{A},\\textbf{B}]\\, e^{\\textbf{-A}t}\n",
    "\\end{align}$$\n",
    "\n",
    "And thus, an immediate recurrence gives us the followings :\n",
    "\n",
    "$$ Y^{(2)}(t) =  e^{\\textbf{A}t}\\,[\\textbf{A},[\\textbf{A},\\textbf{B}]]\\, e^{\\textbf{-A}t} $$\n",
    "$$ Y^{(3)}(t) =  e^{\\textbf{A}t}\\,[\\textbf{A},[\\textbf{A},[\\textbf{A},\\textbf{B}]]]\\, e^{\\textbf{-A}t} $$\n",
    "$$\\vdots$$\n",
    "\n",
    "Or we can write $Y$ as $Y(t)=\\sum_{n=0}^{\\infty} \\frac{t^n}{n!}Y^{(n)}(0)$. Then the evaluation $t=1$ gives us the result.\n"
   ]
  },
  {
   "cell_type": "markdown",
   "metadata": {},
   "source": [
    "\n",
    "\n",
    "\n",
    "\n",
    "## References\n",
    "* Haroche and Raimond, [Exploring the Quantum:\n",
    "Atoms, Cavities and Photons](http://math0.bnu.edu.cn/~zhengc/material/macsoft/ebooksclub.org__Exploring_the_Quantum__Atoms__Cavities__and_Photons__Oxford_Graduate_Texts_.pdf), 2006\n",
    "* H.J. Kushner, [Introduction to Stochastic Control](https://www.amazon.com/Introduction-stochastic-control-Harold-Kushner/dp/0030849675), 1971\n",
    "* Dotsenko et al., [Quantum feedback by discrete quantum non-demolition measurements:\n",
    "towards on-demand generation of photon-number states](https://arxiv.org/pdf/0905.0114.pdf), 2009\n",
    "* Amini et al., [Design of Strict Control-Lyapunov Functions\n",
    "for Quantum Systems with QND Measurements](https://arxiv.org/pdf/1103.1365.pdf), 2011\n",
    "* Amini et al., [Feedback stabilization of discrete-time quantum systems subject to\n",
    "non-demolition measurements with imperfections and delays](https://arxiv.org/pdf/1201.1387.pdf), 2013\n",
    "* Sayrin et al., [Real-time quantum feedback prepares and stabilizes\n",
    "photon number states](https://arxiv.org/pdf/1107.4027.pdf), 2011\n",
    "* Somaraju et al., [Semi-Global Approximate stabilization of an infinite\n",
    "dimensional quantum stochastic system](https://arxiv.org/pdf/1103.1732.pdf), 2011\n",
    "\n",
    "## Authors\n",
    "This is a joint project by [Jean-Stanislas Denain](https://github.com/denainjs), Nicolas Guérin and Benjamin Dupuis, supervised by [Mazyar Mirrahimi](https://who.rocq.inria.fr/Mazyar.Mirrahimi/).\n",
    "\n",
    "## License\n",
    "This project is under the MIT license.\n"
   ]
  }
 ],
 "metadata": {
  "kernelspec": {
   "display_name": "Python 3",
   "language": "python",
   "name": "python3"
  },
  "language_info": {
   "codemirror_mode": {
    "name": "ipython",
    "version": 3
   },
   "file_extension": ".py",
   "mimetype": "text/x-python",
   "name": "python",
   "nbconvert_exporter": "python",
   "pygments_lexer": "ipython3",
   "version": "3.6.5"
  }
 },
 "nbformat": 4,
 "nbformat_minor": 2
}
